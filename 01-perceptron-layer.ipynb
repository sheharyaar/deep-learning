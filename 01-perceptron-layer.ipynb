{
 "cells": [
  {
   "cell_type": "markdown",
   "id": "39e8d7f9-e25e-48f7-8f2c-e6be9d92b589",
   "metadata": {},
   "source": [
    "## Neuron"
   ]
  },
  {
   "cell_type": "code",
   "execution_count": 153,
   "id": "81e8cf4d-db9a-40c4-881d-948c75d4c550",
   "metadata": {},
   "outputs": [],
   "source": [
    "import numpy as np\n",
    "np.random.seed(0)\n",
    "\n",
    "class Neuron:\n",
    "    def __init__(self, n_inputs):\n",
    "        self.weights = 0.1 * np.random.randn(n_inputs) # multiplying with 0.1 to keep the range within (-1, 0, 1)\n",
    "        self.bias = np.zeros((1))\n",
    "\n",
    "    def activate(self, inputs):\n",
    "        self.output = np.dot(inputs, self.weights) + self.bias\n"
   ]
  },
  {
   "cell_type": "code",
   "execution_count": 154,
   "id": "c644f31e-abba-4e2e-9f39-36e6c9632dcf",
   "metadata": {},
   "outputs": [
    {
     "data": {
      "text/plain": [
       "array([2.38019435])"
      ]
     },
     "execution_count": 154,
     "metadata": {},
     "output_type": "execute_result"
    }
   ],
   "source": [
    "n = Neuron(5)\n",
    "n.activate([1,2,3,4,5])\n",
    "n.output"
   ]
  },
  {
   "cell_type": "markdown",
   "id": "df533d7b-c6ab-4476-a97b-4eb55ccc77b7",
   "metadata": {},
   "source": [
    "## Layer"
   ]
  },
  {
   "cell_type": "code",
   "execution_count": 155,
   "id": "dee48a05-d523-42d5-beaf-effa7bde2493",
   "metadata": {},
   "outputs": [],
   "source": [
    "import numpy as np\n",
    "np.random.seed(0)\n",
    "\n",
    "class Layer:\n",
    "    def __init__(self, n_inputs, n_neurons):\n",
    "        self.weights = 0.1 * np.random.randn(n_inputs, n_neurons) # multiplying with 0.1 to keep the range within (-1, 0, 1)\n",
    "        self.biases = np.zeros((1, n_neurons))\n",
    "\n",
    "    def forward(self, inputs):\n",
    "        self.output = np.dot(inputs, self.weights) + self.biases"
   ]
  },
  {
   "cell_type": "code",
   "execution_count": 156,
   "id": "07723cdb-2a14-4a88-ab25-cb5aa7559dae",
   "metadata": {},
   "outputs": [
    {
     "name": "stdout",
     "output_type": "stream",
     "text": [
      "[[-0.06612363  0.07729238]\n",
      " [-0.08872864  0.14923993]]\n"
     ]
    }
   ],
   "source": [
    "X = [\n",
    "    [1.2, 5.1, 2.1], # sample 1\n",
    "    [2.4, 3.6, 4.8], #sample 2\n",
    "]\n",
    "\n",
    "layer1 = Layer(3, 5)\n",
    "layer1.forward(X)\n",
    "# print(layer1.output)\n",
    "\n",
    "layer2 = Layer(5,2)\n",
    "layer2.forward(layer1.output)\n",
    "\n",
    "print(layer2.output)"
   ]
  },
  {
   "attachments": {},
   "cell_type": "markdown",
   "id": "a58bed6e-7bda-4ef9-a2a4-290cf4ad5700",
   "metadata": {},
   "source": [
    "### Pytorch"
   ]
  },
  {
   "cell_type": "code",
   "execution_count": 157,
   "id": "d06360b1-b4d1-49af-a423-23a95f0d30c8",
   "metadata": {},
   "outputs": [
    {
     "data": {
      "text/plain": [
       "tensor([[-1.5767, -0.6136],\n",
       "        [-1.1977, -1.1698]], grad_fn=<AddmmBackward0>)"
      ]
     },
     "execution_count": 157,
     "metadata": {},
     "output_type": "execute_result"
    }
   ],
   "source": [
    "# Linear\n",
    "import torch\n",
    "from torch import nn\n",
    "\n",
    "m = nn.Linear(in_features=3, out_features=5)\n",
    "out = m(torch.tensor(X))\n",
    "\n",
    "n = nn.Linear(in_features=5, out_features=2)\n",
    "n(out)"
   ]
  },
  {
   "cell_type": "code",
   "execution_count": 158,
   "id": "34fa47bc-b221-4b1a-85a4-a9d26ed72b29",
   "metadata": {},
   "outputs": [
    {
     "data": {
      "text/plain": [
       "tensor([[0.3179, 0.0254],\n",
       "        [0.6751, 0.2003]], grad_fn=<AddmmBackward0>)"
      ]
     },
     "execution_count": 158,
     "metadata": {},
     "output_type": "execute_result"
    }
   ],
   "source": [
    "# Sequential\n",
    "\n",
    "s = nn.Sequential(\n",
    "    nn.Linear(3, 5),\n",
    "    nn.Linear(5, 2)\n",
    ")\n",
    "\n",
    "s(torch.tensor(X))"
   ]
  }
 ],
 "metadata": {
  "kernelspec": {
   "display_name": "dl-env",
   "language": "python",
   "name": "dl-env"
  },
  "language_info": {
   "codemirror_mode": {
    "name": "ipython",
    "version": 3
   },
   "file_extension": ".py",
   "mimetype": "text/x-python",
   "name": "python",
   "nbconvert_exporter": "python",
   "pygments_lexer": "ipython3",
   "version": "3.13.2"
  }
 },
 "nbformat": 4,
 "nbformat_minor": 5
}
