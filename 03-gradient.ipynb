{
 "cells": [
  {
   "cell_type": "markdown",
   "id": "1518914c-ad1f-4a8f-b3c4-506ce0a4b1d3",
   "metadata": {},
   "source": [
    "Calculating gradients using Backpropagation. This will be used by my neural network\n",
    "Learnt from Andrej Karpathy's micrograd video : https://www.youtube.com/watch?v=VMj-3S1tku0&list=PLAqhIrjkxbuWI23v9cThsA9GvCAUhRvKZ&index=1"
   ]
  },
  {
   "cell_type": "code",
   "execution_count": 1,
   "id": "fc3dee77-38b6-4eeb-92b7-c9dde7bca5ba",
   "metadata": {},
   "outputs": [],
   "source": [
    "import math\n",
    "import numpy as np\n",
    "import matplotlib.pyplot as plt"
   ]
  },
  {
   "cell_type": "code",
   "execution_count": 2,
   "id": "0138d1ac-c401-4246-b74e-bc7b237b9bab",
   "metadata": {},
   "outputs": [],
   "source": [
    "def f(x):\n",
    "    return 3*x**2 - 4*x + 5"
   ]
  },
  {
   "cell_type": "code",
   "execution_count": 27,
   "id": "5401a2f4-d7da-46d1-a8b9-938c66de637f",
   "metadata": {},
   "outputs": [
    {
     "data": {
      "text/plain": [
       "0.0002999999981767587"
      ]
     },
     "execution_count": 27,
     "metadata": {},
     "output_type": "execute_result"
    }
   ],
   "source": [
    "h = 0.0001\n",
    "x = 2/3\n",
    "(f(x+h) - f(x))/h # derivative\n",
    "\n",
    "# for long floating point calculations we can get wriong answers due to limited representation of the ffloating point mumbers"
   ]
  },
  {
   "cell_type": "code",
   "execution_count": 30,
   "id": "29aa3d53-403d-435d-9ffb-657db48d0925",
   "metadata": {},
   "outputs": [
    {
     "name": "stdout",
     "output_type": "stream",
     "text": [
      "-3.000000000010772\n"
     ]
    }
   ],
   "source": [
    "a = 2.0\n",
    "b = -3.0\n",
    "c = 10.0\n",
    "d1 = a*b + c\n",
    "a += h\n",
    "d2 = a*b + c\n",
    "print((d2-d1)/h)"
   ]
  },
  {
   "cell_type": "code",
   "execution_count": 6,
   "id": "b13e27bb-2bd1-4c85-be02-39be54d955f6",
   "metadata": {},
   "outputs": [],
   "source": [
    "class Value:\n",
    "    def __init__(self, data, _children=(), _op='', label=''):\n",
    "        self.data = data\n",
    "        self.prev = set(_children)\n",
    "        self.op = _op\n",
    "        self.label = label\n",
    "\n",
    "    def __repr__(self):\n",
    "        return f\"Value(data={self.data}, _children={self.prev})\"\n",
    "\n",
    "    def __add__(self, other):\n",
    "        return Value(self.data + other.data, (self, other), _op='+')\n",
    "\n",
    "    def __mul__(self, other):\n",
    "        return Value(self.data * other.data, (self, other), _op='*')"
   ]
  },
  {
   "cell_type": "code",
   "execution_count": 8,
   "id": "3c9226a0-bf72-432e-a1e9-5d1ee18bada4",
   "metadata": {},
   "outputs": [
    {
     "name": "stdout",
     "output_type": "stream",
     "text": [
      "Value(data=4.0, _children={Value(data=-6.0, _children={Value(data=2.0, _children={'a'}), Value(data=-3.0, _children={'b'})}), Value(data=10.0, _children={'c'})})\n"
     ]
    }
   ],
   "source": [
    "a = Value(2.0, 'a')\n",
    "b = Value(-3.0, 'b')\n",
    "c = Value(10.0, 'c')\n",
    "d = a*b + c\n",
    "d.label = 'd'\n",
    "print(d)"
   ]
  },
  {
   "cell_type": "code",
   "execution_count": null,
   "id": "daff49ae-4612-47da-9521-e9058694a3d2",
   "metadata": {},
   "outputs": [],
   "source": []
  }
 ],
 "metadata": {
  "kernelspec": {
   "display_name": "dl-env",
   "language": "python",
   "name": "dl-env"
  },
  "language_info": {
   "codemirror_mode": {
    "name": "ipython",
    "version": 3
   },
   "file_extension": ".py",
   "mimetype": "text/x-python",
   "name": "python",
   "nbconvert_exporter": "python",
   "pygments_lexer": "ipython3",
   "version": "3.13.2"
  }
 },
 "nbformat": 4,
 "nbformat_minor": 5
}
