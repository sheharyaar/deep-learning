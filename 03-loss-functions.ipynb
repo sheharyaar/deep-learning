{
 "cells": [
  {
   "cell_type": "markdown",
   "id": "dde21b03-c3e8-4450-bd9c-b3737f42624d",
   "metadata": {},
   "source": [
    "# Activation Function"
   ]
  },
  {
   "cell_type": "markdown",
   "id": "22ed023a-3d7a-41e3-ad3f-baa309ed1ef6",
   "metadata": {},
   "source": [
    "Changes in this version\n",
    "-  Add LinearModel Class to make writing multiple layers easy\n",
    "-  Add Loss Functions"
   ]
  },
  {
   "cell_type": "markdown",
   "id": "1699c6c4-7262-4198-9020-cb1ccc8e405f",
   "metadata": {},
   "source": [
    "## Add LinearModel Class"
   ]
  },
  {
   "cell_type": "code",
   "execution_count": 49,
   "id": "4f24c911-711a-4b69-bbe3-f52de9e9ec5c",
   "metadata": {},
   "outputs": [],
   "source": [
    "import numpy as np\n",
    "np.random.seed(0) # in notebooks, this needs to be present in the cell where the random is being called\n",
    "\n",
    "class Activation:\n",
    "    def __init(self):\n",
    "        pass\n",
    "    def __str__(self):\n",
    "        pass\n",
    "    def forward(self, inputs):\n",
    "        pass\n",
    "    def __call__(self, arg):\n",
    "        return self.forward(arg)\n",
    "\n",
    "# ReLU function\n",
    "class Act_ReLU(Activation):\n",
    "    def forward(self, inputs):\n",
    "        return np.maximum(0, inputs)\n",
    "    \n",
    "    def __str__(self):\n",
    "        return \"ReLU\"\n",
    "\n",
    "class Act_Tanh(Activation):\n",
    "    def forward(self, inputs):\n",
    "        return np.tanh(inputs)\n",
    "    \n",
    "    def __str__(self):\n",
    "        return \"Tanh\"\n",
    "\n",
    "class Act_Sigmoid(Activation):\n",
    "    def forward(self, inputs):\n",
    "        lambda_sigmoid = lambda i: 1/(1+(1/np.exp(i)))\n",
    "        np_sigmoid = np.vectorize(lambda_sigmoid)\n",
    "        return np_sigmoid(inputs)\n",
    "    \n",
    "    def __str__(self):\n",
    "        return \"Sigmoid\"\n",
    "\n",
    "class Act_Softmax(Activation):\n",
    "    def forward(self, inputs):\n",
    "        exp = np.exp(inputs)\n",
    "        return exp / np.sum(exp)\n",
    "\n",
    "    def __str__(self):\n",
    "        return \"Softmax\"\n",
    "\n",
    "class Layer:\n",
    "    def __init__(self, n_inputs, n_neurons, activation_fn, weights=None, biases=None):\n",
    "        if weights is None:\n",
    "            self.weights = 0.1 * np.random.randn(n_inputs, n_neurons) # multiplying with 0.1 to keep the range within (-1, 0, 1)\n",
    "        else:\n",
    "            self.weights = np.transpose(weights) # used to test the correctino of my code\n",
    "\n",
    "        if biases is None:\n",
    "            self.biases = np.zeros((1, n_neurons))\n",
    "        else:\n",
    "            self.biases = biases\n",
    "        self.activation = activation_fn()  # new code - initialise the activation class\n",
    "\n",
    "    def forward(self, inputs):\n",
    "        # modified to execute the activation forward code\n",
    "        self.output_raw = np.array(np.dot(inputs, self.weights) + self.biases)\n",
    "        self.output = self.activation.forward(self.output_raw)\n",
    "        return self.output\n",
    "\n",
    "    def __call__(self, arg):\n",
    "        return self.forward(arg)\n",
    "\n",
    "    def __str__(self):\n",
    "        return f\"Layer(n_inp={self.weights.shape[0]},\\\n",
    "        n_neurons={self.weights.shape[1]},\\\n",
    "        activation_fn={self.activation.__str__()}\"\n",
    "\n",
    "# Linea\n",
    "class LinearModel:\n",
    "    def __init__(self, *args):\n",
    "        self.layers = []\n",
    "        for arg in args:\n",
    "            self.layers.append(arg)\n",
    "\n",
    "    def __call__(self, arg):\n",
    "        out = arg\n",
    "        for layer in self.layers:\n",
    "            out = layer(out)\n",
    "        return out\n",
    "\n",
    "    def __str__(self):\n",
    "        head = \"LinearModel(\\n\"\n",
    "        tail = \")\"\n",
    "        body = \"\"\n",
    "        for layer in self.layers:\n",
    "            body += layer.__str__() + \"\\n\"\n",
    "        return head + body + tail"
   ]
  },
  {
   "cell_type": "code",
   "execution_count": 48,
   "id": "3bbfca4e-cbe0-43f8-a9e1-2cbe927c9bfd",
   "metadata": {},
   "outputs": [
    {
     "data": {
      "text/plain": [
       "array([[0.50057118, 0.49913242]])"
      ]
     },
     "execution_count": 48,
     "metadata": {},
     "output_type": "execute_result"
    }
   ],
   "source": [
    "m = LinearModel(\n",
    "    Layer(3, 4, Act_ReLU),\n",
    "    Layer(4, 5, Act_Tanh),\n",
    "    Layer(5, 2, Act_Sigmoid)\n",
    ")\n",
    "\n",
    "m([1.,2.,3.])"
   ]
  },
  {
   "cell_type": "markdown",
   "id": "ce90916d-dcb7-4c60-930a-9e046aa80382",
   "metadata": {},
   "source": [
    "## Loss Functions"
   ]
  }
 ],
 "metadata": {
  "kernelspec": {
   "display_name": "dl-env",
   "language": "python",
   "name": "dl-env"
  },
  "language_info": {
   "codemirror_mode": {
    "name": "ipython",
    "version": 3
   },
   "file_extension": ".py",
   "mimetype": "text/x-python",
   "name": "python",
   "nbconvert_exporter": "python",
   "pygments_lexer": "ipython3",
   "version": "3.13.2"
  }
 },
 "nbformat": 4,
 "nbformat_minor": 5
}
