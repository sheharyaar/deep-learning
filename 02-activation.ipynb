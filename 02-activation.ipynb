{
 "cells": [
  {
   "cell_type": "markdown",
   "id": "dde21b03-c3e8-4450-bd9c-b3737f42624d",
   "metadata": {},
   "source": [
    "# Activation Function"
   ]
  },
  {
   "cell_type": "code",
   "execution_count": 30,
   "id": "b8c825ff-d02e-4591-9836-d5021f2c7153",
   "metadata": {},
   "outputs": [],
   "source": [
    "import numpy as np\n",
    "np.random.seed(0) # in notebooks, this needs to be present in the cell where the random is being called\n",
    "\n",
    "# new code\n",
    "class Activation:\n",
    "    def __init(self):\n",
    "        pass\n",
    "    def forward(self, inputs):\n",
    "        pass\n",
    "\n",
    "# ReLU function\n",
    "class Act_ReLU(Activation):\n",
    "    def forward(self, inputs):\n",
    "        return np.maximum(0, inputs)\n",
    "\n",
    "class Act_Tanh(Activation):\n",
    "    def forward(self, inputs):\n",
    "        return np.tanh(inputs)\n",
    "\n",
    "class Act_Sigmoid(Activation):\n",
    "    def forward(self, inputs):\n",
    "        return 1/(1 + np.exp(-x))\n",
    "\n",
    "class Act_Softmax(Activation):\n",
    "    def forward(self, inputs):\n",
    "        print(inputs)\n",
    "        exp = np.exp(inputs)\n",
    "        return exp / np.sum(exp)\n",
    "\n",
    "# imported from notebook: 01-perceptron-layer.ipynb\n",
    "class Layer:\n",
    "    def __init__(self, n_inputs, n_neurons, activation_fn):\n",
    "        self.weights = 0.1 * np.random.randn(n_inputs, n_neurons) # multiplying with 0.1 to keep the range within (-1, 0, 1)\n",
    "        self.biases = np.zeros((1, n_neurons))\n",
    "        self.activation = activation_fn()  # new code - initialise the activation class\n",
    "\n",
    "    def forward(self, inputs):\n",
    "        # modified to execute the activation forward code\n",
    "        self.output = self.activation.forward(np.array(np.dot(inputs, self.weights) + self.biases))\n",
    "        "
   ]
  },
  {
   "cell_type": "code",
   "execution_count": 31,
   "id": "3bbfca4e-cbe0-43f8-a9e1-2cbe927c9bfd",
   "metadata": {},
   "outputs": [
    {
     "name": "stdout",
     "output_type": "stream",
     "text": [
      "[[ 0.00554223 -0.00117924]]\n"
     ]
    },
    {
     "data": {
      "text/plain": [
       "array([[0.50168036, 0.49831964]])"
      ]
     },
     "execution_count": 31,
     "metadata": {},
     "output_type": "execute_result"
    }
   ],
   "source": [
    "layer1 = Layer(3, 4, Act_ReLU)\n",
    "layer1.forward([1,2,3])\n",
    "\n",
    "layer2 = Layer(4, 5, Act_Tanh)\n",
    "layer2.forward(layer1.output)\n",
    "layer2.output\n",
    "\n",
    "layer3 = Layer(5, 2, Act_Tanh)\n",
    "layer3.forward(layer2.output)\n",
    "layer3.output\n",
    "\n",
    "soft = Act_Softmax()\n",
    "soft.forward(layer3.output)"
   ]
  },
  {
   "cell_type": "markdown",
   "id": "8c558a5c-27f4-4d0d-9724-049e2d93cc09",
   "metadata": {},
   "source": [
    "### PyTorch"
   ]
  },
  {
   "cell_type": "code",
   "execution_count": 32,
   "id": "568cce7b-eb05-4cc4-aa95-c28f209954e5",
   "metadata": {},
   "outputs": [
    {
     "data": {
      "text/plain": [
       "tensor([0.3630, 0.4340], grad_fn=<SigmoidBackward0>)"
      ]
     },
     "execution_count": 32,
     "metadata": {},
     "output_type": "execute_result"
    }
   ],
   "source": [
    "import torch\n",
    "from torch import nn\n",
    "\n",
    "model = nn.Sequential(\n",
    "    nn.Linear(3, 4),\n",
    "    nn.ReLU(),\n",
    "    nn.Linear(4, 5),\n",
    "    nn.Tanh(),\n",
    "    nn.Linear(5, 2),\n",
    "    nn.Sigmoid()\n",
    ")\n",
    "\n",
    "model(torch.tensor([1.,2.,3.]))"
   ]
  }
 ],
 "metadata": {
  "kernelspec": {
   "display_name": "dl-env",
   "language": "python",
   "name": "dl-env"
  },
  "language_info": {
   "codemirror_mode": {
    "name": "ipython",
    "version": 3
   },
   "file_extension": ".py",
   "mimetype": "text/x-python",
   "name": "python",
   "nbconvert_exporter": "python",
   "pygments_lexer": "ipython3",
   "version": "3.13.2"
  }
 },
 "nbformat": 4,
 "nbformat_minor": 5
}
