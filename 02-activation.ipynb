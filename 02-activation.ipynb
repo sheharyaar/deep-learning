{
 "cells": [
  {
   "cell_type": "markdown",
   "id": "dde21b03-c3e8-4450-bd9c-b3737f42624d",
   "metadata": {},
   "source": [
    "# Activation Function"
   ]
  },
  {
   "cell_type": "code",
   "execution_count": 89,
   "id": "b8c825ff-d02e-4591-9836-d5021f2c7153",
   "metadata": {},
   "outputs": [],
   "source": [
    "import numpy as np\n",
    "np.random.seed(0) # in notebooks, this needs to be present in the cell where the random is being called\n",
    "np.set_printoptions(precision=4)\n",
    "                      \n",
    "# new code\n",
    "class Activation:\n",
    "    def __init__(self):\n",
    "        pass\n",
    "    def forward(self, inputs):\n",
    "        pass\n",
    "    def __call__(self, arg):\n",
    "        return self.forward(arg)\n",
    "\n",
    "# ReLU function\n",
    "class Act_Linear(Activation):\n",
    "    def forward(self, inputs):\n",
    "        return inputs\n",
    "    \n",
    "class Act_ReLU(Activation):\n",
    "    def forward(self, inputs):\n",
    "        return np.maximum(0, inputs)\n",
    "\n",
    "class Act_Tanh(Activation):\n",
    "    def forward(self, inputs):\n",
    "        return np.tanh(inputs)\n",
    "\n",
    "class Act_Sigmoid(Activation):\n",
    "    def forward(self, inputs):\n",
    "        return 1/(1+np.exp(-inputs))\n",
    "\n",
    "class Act_Softmax(Activation):\n",
    "    def forward(self, inputs):\n",
    "        exp = np.exp(inputs)\n",
    "        return exp / np.sum(exp)\n",
    "\n",
    "# imported from notebook: 01-perceptron-layer.ipynb\n",
    "class Layer:\n",
    "    def __init__(self, n_inputs, n_neurons, activation_fn, weights=None, biases=None):\n",
    "        if activation_fn is None:\n",
    "            activation_fn = Act_Linear\n",
    "\n",
    "        if activation_fn is Act_Softmax:\n",
    "            raise Exception(\"Softmax is not supported as an activation function, use it after the output\")\n",
    "            \n",
    "        if weights is None:\n",
    "            self.weights = 0.1 * np.random.randn(n_neurons, n_inputs) # multiplying with 0.1 to keep the range within (-1, 0, 1)\n",
    "        else:\n",
    "            self.weights = weights # used to test the correction of my code\n",
    "\n",
    "        if biases is None:\n",
    "            self.biases = np.zeros((1, n_neurons))\n",
    "        else:\n",
    "            self.biases = biases\n",
    "        self.activation = activation_fn()  # new code - initialise the activation class\n",
    "\n",
    "    def forward(self, inputs):\n",
    "        # modified to execute the activation forward code\n",
    "        self.inputs = inputs\n",
    "        output_raw = np.dot(self.inputs, self.weights.T) + self.biases\n",
    "        self.output = self.activation.forward(output_raw)\n",
    "        return self.output\n",
    "\n",
    "    def __call__(self, arg):\n",
    "        return self.forward(arg)"
   ]
  },
  {
   "cell_type": "code",
   "execution_count": 90,
   "id": "3bbfca4e-cbe0-43f8-a9e1-2cbe927c9bfd",
   "metadata": {},
   "outputs": [
    {
     "data": {
      "text/plain": [
       "array([[0.5019, 0.4981]])"
      ]
     },
     "execution_count": 90,
     "metadata": {},
     "output_type": "execute_result"
    }
   ],
   "source": [
    "inp = np.array([[1.,2.,3.]])\n",
    "layer1 = Layer(3, 4, Act_ReLU)\n",
    "layer1(inp)\n",
    "\n",
    "layer2 = Layer(4, 5, Act_Tanh)\n",
    "layer2(layer1.output)\n",
    "layer2.output\n",
    "\n",
    "layer3 = Layer(5, 2, Act_Sigmoid)\n",
    "layer3(layer2.output)\n",
    "layer3.output\n",
    "\n",
    "soft = Act_Softmax()\n",
    "soft(layer3.output)"
   ]
  },
  {
   "cell_type": "markdown",
   "id": "8c558a5c-27f4-4d0d-9724-049e2d93cc09",
   "metadata": {},
   "source": [
    "### PyTorch"
   ]
  },
  {
   "cell_type": "code",
   "execution_count": 91,
   "id": "568cce7b-eb05-4cc4-aa95-c28f209954e5",
   "metadata": {},
   "outputs": [
    {
     "data": {
      "text/plain": [
       "tensor([0.4718, 0.5779], grad_fn=<SigmoidBackward0>)"
      ]
     },
     "execution_count": 91,
     "metadata": {},
     "output_type": "execute_result"
    }
   ],
   "source": [
    "import torch\n",
    "from torch import nn\n",
    "\n",
    "model = nn.Sequential(\n",
    "    nn.Linear(3, 4),\n",
    "    nn.ReLU(),\n",
    "    nn.Linear(4, 5),\n",
    "    nn.Tanh(),\n",
    "    nn.Linear(5, 2),\n",
    "    nn.Sigmoid()\n",
    ")\n",
    "\n",
    "model(torch.tensor([1.,2.,3.]))"
   ]
  },
  {
   "cell_type": "markdown",
   "id": "e1ae5f48-3996-4103-a51c-7b5cf57c399a",
   "metadata": {},
   "source": [
    "## Comparing the implementations"
   ]
  },
  {
   "cell_type": "markdown",
   "id": "bace462e-6474-4a52-b884-bef6e869fae1",
   "metadata": {},
   "source": [
    "### Single Layer implementation"
   ]
  },
  {
   "cell_type": "code",
   "execution_count": 92,
   "id": "2090aa20-0f50-4a10-a77d-6238a099f8ee",
   "metadata": {},
   "outputs": [
    {
     "data": {
      "text/plain": [
       "tensor([ 2.4948,  0.6741, -1.6913, -0.9494], grad_fn=<ViewBackward0>)"
      ]
     },
     "execution_count": 92,
     "metadata": {},
     "output_type": "execute_result"
    }
   ],
   "source": [
    "## Pytorch\n",
    "test_py1 = nn.Linear(3, 4)\n",
    "test_py1(torch.tensor([1.,2.,3.]))\n"
   ]
  },
  {
   "cell_type": "code",
   "execution_count": 93,
   "id": "82f5ecb9-872b-40b5-8295-43778fb35d20",
   "metadata": {},
   "outputs": [
    {
     "data": {
      "text/plain": [
       "array([[ 2.4948,  0.6741, -1.6913, -0.9494]])"
      ]
     },
     "execution_count": 93,
     "metadata": {},
     "output_type": "execute_result"
    }
   ],
   "source": [
    "test_layer1 = Layer(3, 4, None, test_py1.weight.detach().numpy(), test_py1.bias.detach().numpy())\n",
    "test_layer1(inp)"
   ]
  },
  {
   "cell_type": "markdown",
   "id": "50066671-1476-4cd8-965f-952dfdbaad08",
   "metadata": {},
   "source": [
    "### Multi Layer implementation"
   ]
  },
  {
   "cell_type": "code",
   "execution_count": 94,
   "id": "7aa5a5ba-7be7-483a-9f2c-e4f5518d36e0",
   "metadata": {},
   "outputs": [
    {
     "name": "stdout",
     "output_type": "stream",
     "text": [
      "tensor([0.6193, 0.5300], grad_fn=<SigmoidBackward0>)\n"
     ]
    }
   ],
   "source": [
    "test_py2 = nn.Sequential(\n",
    "    nn.Linear(3, 4),\n",
    "    nn.ReLU(),\n",
    "    nn.Linear(4, 5),\n",
    "    nn.Tanh(),\n",
    "    nn.Linear(5, 2),\n",
    "    nn.Sigmoid()\n",
    ")\n",
    "\n",
    "test_py2_out = test_py2(torch.tensor([1.,2.,3.]))\n",
    "print(test_py2_out)"
   ]
  },
  {
   "cell_type": "code",
   "execution_count": 95,
   "id": "6b556e46-a0f3-4fab-aa24-aacf20e2c7af",
   "metadata": {},
   "outputs": [
    {
     "data": {
      "text/plain": [
       "array([[0.6193, 0.53  ]])"
      ]
     },
     "execution_count": 95,
     "metadata": {},
     "output_type": "execute_result"
    }
   ],
   "source": [
    "layer_t2_1 = Layer(3, 4, Act_ReLU, test_py2[0].weight.detach().numpy(), test_py2[0].bias.detach().numpy())\n",
    "layer_t2_1(inp)\n",
    "\n",
    "layer_t2_2 = Layer(4, 5, Act_Tanh, test_py2[2].weight.detach().numpy(), test_py2[2].bias.detach().numpy())\n",
    "layer_t2_2(layer_t2_1.output)\n",
    "\n",
    "layer_t2_3 = Layer(5, 2, Act_Sigmoid, test_py2[4].weight.detach().numpy(), test_py2[4].bias.detach().numpy())\n",
    "layer_t2_3(layer_t2_2.output)"
   ]
  },
  {
   "cell_type": "code",
   "execution_count": 96,
   "id": "2516c56c-c74e-460d-a299-fe46948d5826",
   "metadata": {},
   "outputs": [
    {
     "data": {
      "text/plain": [
       "tensor([0.5223, 0.4777], grad_fn=<SoftmaxBackward0>)"
      ]
     },
     "execution_count": 96,
     "metadata": {},
     "output_type": "execute_result"
    }
   ],
   "source": [
    "nn.Softmax(dim=0)(test_py2_out)"
   ]
  },
  {
   "cell_type": "code",
   "execution_count": 97,
   "id": "2bf85a08-8b3a-4f8e-8ca1-07bfe89b5e0e",
   "metadata": {},
   "outputs": [
    {
     "data": {
      "text/plain": [
       "array([[0.5223, 0.4777]])"
      ]
     },
     "execution_count": 97,
     "metadata": {},
     "output_type": "execute_result"
    }
   ],
   "source": [
    "soft = Act_Softmax()\n",
    "soft(layer_t2_3.output)"
   ]
  },
  {
   "cell_type": "markdown",
   "id": "b5e233cd-1c20-4604-a5a6-afff22792893",
   "metadata": {
    "jp-MarkdownHeadingCollapsed": true
   },
   "source": [
    "**Thus my implementation of ReLU, Tanh, Sigmoid and Softmax is correct**"
   ]
  }
 ],
 "metadata": {
  "kernelspec": {
   "display_name": "dl-env",
   "language": "python",
   "name": "dl-env"
  },
  "language_info": {
   "codemirror_mode": {
    "name": "ipython",
    "version": 3
   },
   "file_extension": ".py",
   "mimetype": "text/x-python",
   "name": "python",
   "nbconvert_exporter": "python",
   "pygments_lexer": "ipython3",
   "version": "3.13.2"
  }
 },
 "nbformat": 4,
 "nbformat_minor": 5
}
